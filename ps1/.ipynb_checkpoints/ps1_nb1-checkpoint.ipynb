{
 "cells": [
  {
   "cell_type": "markdown",
   "metadata": {
    "deletable": false,
    "editable": false,
    "nbgrader": {
     "cell_type": "markdown",
     "checksum": "bb90ec2e083a3ae844fff9b103c3ba36",
     "grade": false,
     "grade_id": "cell-6453afbe0bdb6aa6",
     "locked": true,
     "schema_version": 3,
     "solution": false,
     "task": false
    }
   },
   "source": [
    "<img src=\"logo-2020.png\" alt=\"frankfurt school hmi\" width=\"150\"/>"
   ]
  },
  {
   "cell_type": "markdown",
   "metadata": {
    "deletable": false,
    "editable": false,
    "nbgrader": {
     "cell_type": "markdown",
     "checksum": "e714f9bbd56102c68a1be74c375df63c",
     "grade": false,
     "grade_id": "cell-acb40d952bd1742d",
     "locked": true,
     "schema_version": 3,
     "solution": false,
     "task": false
    }
   },
   "source": [
    "___\n",
    "# Machine Learning I.\n",
    "## Problem Set 1: Linear Regression (14 points total)\n",
    "\n",
    "### Instructions\n",
    "The graded portion of problem set 1 consists of one notebook:\n",
    "```\n",
    "ps1_nb1.ipynb\n",
    "```\n",
    "There are also two ungraded tutorials in the `Tutorials` folder, a quick introduction to Jupyter notebooks and a tutorial on numpy arrays:\n",
    "```\n",
    "t0-introduction-to-notebooks.ipynb\n",
    "t1-numpy_introduction.ipynb\n",
    "```\n",
    "Both are recommended. \n",
    "\n",
    "### Due Date\n",
    "* 27.JAN.2022 before 23:59:59 (CET)\n",
    "\n",
    "### Instructor\n",
    "* Prof. Dr. Gregory Wheeler ([gregorywheeler.org](http://gregorywheeler.org))\n",
    "\n",
    "---\n",
    "\n",
    "### Declare your collaborators\n",
    "You may work alone or in a group. The maximum group size is 4 people, including yourself. Each student must submit his or her own individual notebook. \n",
    "\n",
    "If you work in a group, use the next cell to enter the list of names (first, last) of your collaborators. \n",
    "~~~python\n",
    "# Example\n",
    "COLLABORATORS = ['Stu Dent', 'May Bee', 'Ki Val Storr']\n",
    "~~~\n",
    "You should also familiarize yourself with the collaboration policy on the course Canvas page."
   ]
  },
  {
   "cell_type": "code",
   "execution_count": 4,
   "metadata": {},
   "outputs": [],
   "source": [
    "# Be sure your names are strings\n",
    "COLLABORATORS = ['Carla Weidner', 'Chaitanya Madduri', 'Jasmin Capka']"
   ]
  },
  {
   "cell_type": "markdown",
   "metadata": {
    "deletable": false,
    "editable": false,
    "nbgrader": {
     "cell_type": "markdown",
     "checksum": "9a9bf5e597f01ae32a50358f94c41f4c",
     "grade": false,
     "grade_id": "cell-b62ce31b7ef69ad4",
     "locked": true,
     "schema_version": 3,
     "solution": false,
     "task": false
    }
   },
   "source": [
    "\n",
    "---\n",
    "## <i>Money cannot buy happiness. Or can it?</i>\n",
    "\n",
    "The populations of some countries are happier than other countries. In this exercise, you will investigate the relationship between a country's per capita GDP and its \"happiness score\".  Since 2012, the annual [World Happiness Report](https://worldhappiness.report/), published by the United Nations' [Sustainable Development Solutions Network](https://www.unsdsn.org/), asks people around the world how happy they are. The happiness score uses the [Cantril scale](https://news.gallup.com/poll/122453/understanding-gallup-uses-cantril-scale.aspx), which is a subjective scale constructed by asking respondents to imagine a ladder on which the best possible life for themselves receives the score of 10, the worst possible life a score of 0, and then are asked to rate their own lives on that scale between 0 and 10.  The questionaire is given to a representative sample of each country each year.\n",
    "\n",
    "We expect more individual wealth to correlate with higher happiness. But, how much of the variation in happiness is explained by individual wealth?  That is the question we will explore in outline.  The focus of this exercise is not your analysis per se, but the computational details behind fitting parameters of an ordinary least-squares (OLS) regression.\n",
    "\n",
    "There are three main tasks in this notebook.\n",
    "\n",
    " - PART A. Implement Gradient Descent to calculate the coefficients of a univariate linear regression\n",
    " - PART B. Use a built-in library to check your implementation in A and perform some analysis \n",
    " - PART C. Prepare data yourself and apply your model. \n",
    " \n",
    "You will be asked to write some code and also answer several questions about the model and data. The first step is to run the next cell to load the basic libraries we will use in this assignment."
   ]
  },
  {
   "cell_type": "code",
   "execution_count": 5,
   "metadata": {
    "deletable": false,
    "editable": false,
    "nbgrader": {
     "cell_type": "code",
     "checksum": "db0f5bcfa7d148b8b043c94b6c1aa54c",
     "grade": false,
     "grade_id": "cell-3683f8c3c14a645b",
     "locked": true,
     "schema_version": 3,
     "solution": false,
     "task": false
    }
   },
   "outputs": [],
   "source": [
    "# import numpy and set up plotting parameters\n",
    "import numpy as np\n",
    "import matplotlib.pyplot as plt"
   ]
  },
  {
   "cell_type": "markdown",
   "metadata": {
    "deletable": false,
    "editable": false,
    "nbgrader": {
     "cell_type": "markdown",
     "checksum": "2870f0024da25acfc8e8f0ca64ec5d5f",
     "grade": false,
     "grade_id": "cell-cda1152bfc9e0c0d",
     "locked": true,
     "schema_version": 3,
     "solution": false,
     "task": false
    }
   },
   "source": [
    "# PART A - Gradient Descent\n",
    "\n",
    "## I. Loading and Formatting Data\n",
    "In the ps1 directory you will find the data set for problem 1, `ps1_data1.csv`. File loading methods vary depending on the format of the data file. This particular data set is a _comma-seperated text file_ (.csv), so we will use the numpy function `np.loadtxt` and specify that the columns are delimited by commas.\n",
    "\n",
    "Run the next cell to load `ps1_data1.csv` into a numpy array assigned to the variable `data`."
   ]
  },
  {
   "cell_type": "code",
   "execution_count": 6,
   "metadata": {},
   "outputs": [],
   "source": [
    "data = np.loadtxt('ps1_data1.csv', delimiter=',')"
   ]
  },
  {
   "cell_type": "markdown",
   "metadata": {
    "deletable": false,
    "editable": false,
    "nbgrader": {
     "cell_type": "markdown",
     "checksum": "13154cdb32ca2ebe8d049d6db3c98f45",
     "grade": false,
     "grade_id": "cell-3feec8c3b2a19f6c",
     "locked": true,
     "schema_version": 3,
     "solution": false,
     "task": false
    }
   },
   "source": [
    "Recall that numpy arrays are Python's standard datatype for computing with vectors, matrices, and tensors, and the numerical methods of numpy -- such as `np.dot` and `np.sum` -- are element-wise operations. Although there is also a Python matrix package designed specifically to do linear algebra operations, we will use numpy.\n",
    "\n",
    "(For those of you new to Python but who are familiar with linear algebra or with programming matrix operations in MATLAB, [this page](https://www.khanacademy.org/math/precalculus/precalc-matrices/multiplying-matrices-by-matrices/v/matrix-multiplication-intro) contains useful comparison between Python and MATLAB to help you get quickly up to speed.)\n",
    "\n",
    "You can confirm that data is a numpy array by checking its type, i.e. by excuting `type(data)`. It is also important to know about the dimensions of `data` -- that is, the number of rows (training examples) and the number of columns (features and target). This information is given by using the method `.shape`, i.e., by executing `data.shape`.\n",
    "\n",
    "<div class=\"alert alert-block alert-info\">\n",
    "<b>Tip:</b> You can insert a cell anywhere (+) and delete it (scissors) or any other cell that is not locked\n",
    "    \n",
    "<img src=\"ps_fig1.png\" alt=\"ps3_fig1\" width =\"100\"/>  \n",
    "\n",
    "However, before turning in your assignment, you should remove any cells you have added.  \n",
    "</div>\n",
    "\n",
    "<div class=\"alert alert-block alert-info\">\n",
    "<b>Tip:</b> To clear the output of your notebook and your local memory, you can restart the kernel and clear  “Kernel >> Restart and Clear all Output\":\n",
    "\n",
    "<img src=\"ps_fig2.png\" alt=\"ps3_fig2\" width=\"250\"/> \n",
    "</div>"
   ]
  },
  {
   "cell_type": "markdown",
   "metadata": {
    "deletable": false,
    "editable": false,
    "nbgrader": {
     "cell_type": "markdown",
     "checksum": "99450070217c4af74daa6638446bac4a",
     "grade": false,
     "grade_id": "cell-61e93e897ed5317a",
     "locked": true,
     "schema_version": 3,
     "solution": false,
     "task": false
    }
   },
   "source": [
    "You should see that `data` has two columns. The first column is the feature $x$, <b>per Capita GDP</b> of each country in `data`, and the second column is the target $y$, the corresponding <b>Happiness index</b>. The number of rows denotes the number of training examples, which by convention is assigned to the variable `m`.\n",
    "\n",
    "In the next cell, you should complete the function `set_variables()` which will take an array as an argument and return three variables: `x` and `y` , each of which is itself an array; and `m`, an integer. When `set_variables()` is called specifically on `data`, the three variables are\n",
    "\n",
    "    x - the features of psl_data; i.e., the first column, per capita GDP\n",
    "    y - the target variable of psl_data; i.e., happiness index\n",
    "    m - the number of training examples in psl_data.\n",
    "\n",
    "<u>Your code should work on <b>any</b> two-column array</u>, not only on `data`.\n",
    "\n",
    "<div class=\"alert alert-info\"><b>Tip</b>: Remember that arrays in Python are 0-indexed.</div>\n",
    "\n",
    "\n",
    "\n",
    "### Completing Functions\n",
    "\n",
    "The next cell has a partially completed function, `set_variables()`.  Inside the code block, you will see two lines:\n",
    "\n",
    "~~~python\n",
    "\n",
    "# YOUR CODE HERE\n",
    "raise NotImplementedError()\n",
    "~~~\n",
    "\n",
    "To complete the function, you should delete both of these lines and replace the comment `# YOUR CODE HERE` with your line or lines of code.  The second line raises a  \"not implemented error\" and is included automatically to guard against accidentally submitting an incomplete assignment.  To pass the final validation, you must remove each of these errors from your functions.\n",
    "\n"
   ]
  },
  {
   "cell_type": "code",
   "execution_count": 7,
   "metadata": {
    "deletable": false,
    "nbgrader": {
     "cell_type": "code",
     "checksum": "76c6a6da1c3d078b4ec682f5e5915a4d",
     "grade": false,
     "grade_id": "setVariables",
     "locked": false,
     "schema_version": 3,
     "solution": true,
     "task": false
    }
   },
   "outputs": [],
   "source": [
    "def setVariables(data_array) :\n",
    "    \"\"\"\n",
    "    The function set_variables() is called on one argument:\n",
    "    \n",
    "        data_array := an np.array \n",
    "        \n",
    "    and returns three global variables:\n",
    "        x := the first column of data_array\n",
    "        y := the second column of the data_array\n",
    "        m := the number of rows of the data_array na\n",
    "    Your code should run on any two-column data_array.\n",
    "    \"\"\"\n",
    "    global x\n",
    "    global y\n",
    "    global m\n",
    "    \n",
    "    x = data_array[:,0]\n",
    "    y = data_array[:,1]\n",
    "    \n",
    "    m = data_array.shape[0] # without [0] this would return m and n\n",
    "    \n",
    "    \n",
    "    return x, y, m"
   ]
  },
  {
   "cell_type": "markdown",
   "metadata": {
    "deletable": false,
    "editable": false,
    "nbgrader": {
     "cell_type": "markdown",
     "checksum": "b9cb5ee53d02a075c60b1a296dd0cca2",
     "grade": false,
     "grade_id": "cell-6a1a3dea65d20fa6",
     "locked": true,
     "schema_version": 3,
     "solution": false,
     "task": false
    }
   },
   "source": [
    "### Test Cells\n",
    "The next three cells are test cells that will evaluate your implementation of `setVariables()`. You should run all three. (They will be run automatically when your notebook is graded.) Each of these cells has a line of code, which is a \"public\" test of your code, but there are also \"hidden\" tests of your code.  The public tests are designed to give you some initial feedback that you are on the right track. However, passing the public test is no guarantee that you will pass the private tests. "
   ]
  },
  {
   "cell_type": "code",
   "execution_count": 8,
   "metadata": {
    "deletable": false,
    "editable": false,
    "nbgrader": {
     "cell_type": "code",
     "checksum": "1e68614f6e7d05c3d02efb5f852fe063",
     "grade": true,
     "grade_id": "setVariables-test1",
     "locked": true,
     "points": 1,
     "schema_version": 3,
     "solution": false,
     "task": false
    }
   },
   "outputs": [],
   "source": [
    "\"\"\"TEST CELL 1 for set_variables\"\"\"\n",
    "setVariables(data)\n",
    "assert x[34] == 1.870765686 "
   ]
  },
  {
   "cell_type": "code",
   "execution_count": 9,
   "metadata": {
    "deletable": false,
    "editable": false,
    "nbgrader": {
     "cell_type": "code",
     "checksum": "e69c74b0d093494cb379b3d2b82e4f09",
     "grade": true,
     "grade_id": "setVariable-test2",
     "locked": true,
     "points": 1,
     "schema_version": 3,
     "solution": false,
     "task": false
    }
   },
   "outputs": [],
   "source": [
    "\"\"\"TEST CELL 2 for set_variables\"\"\"\n",
    "setVariables(data)\n",
    "assert y[71] == 5.429999828"
   ]
  },
  {
   "cell_type": "code",
   "execution_count": 10,
   "metadata": {
    "deletable": false,
    "editable": false,
    "nbgrader": {
     "cell_type": "code",
     "checksum": "dd3b769e852e1a10ea1f9f829c098984",
     "grade": true,
     "grade_id": "setVariable-test3",
     "locked": true,
     "points": 1,
     "schema_version": 3,
     "solution": false,
     "task": false
    }
   },
   "outputs": [],
   "source": [
    "\"\"\"TEST CELL 3 for m of set_variables\"\"\"\n",
    "setVariables(data)\n",
    "assert m < 200"
   ]
  },
  {
   "cell_type": "markdown",
   "metadata": {
    "deletable": false,
    "editable": false,
    "nbgrader": {
     "cell_type": "markdown",
     "checksum": "3802d09ac28c5cd087e01c7e3cc077dd",
     "grade": false,
     "grade_id": "cell-537ebf2ac6ef5737",
     "locked": true,
     "schema_version": 3,
     "solution": false,
     "task": false
    }
   },
   "source": [
    "## II. Data Visualization \n",
    "The following block of code produces a basic scatterplot with a legend and title."
   ]
  },
  {
   "cell_type": "code",
   "execution_count": 11,
   "metadata": {},
   "outputs": [
    {
     "data": {
      "text/plain": [
       "<matplotlib.legend.Legend at 0x7ff0e8850b80>"
      ]
     },
     "execution_count": 11,
     "metadata": {},
     "output_type": "execute_result"
    },
    {
     "data": {
      "image/png": "[encoded data removed]",
      "text/plain": [
       "<Figure size 432x288 with 1 Axes>"
      ]
     },
     "metadata": {
      "needs_background": "light"
     },
     "output_type": "display_data"
    }
   ],
   "source": [
    "# produce scatterplot\n",
    "\n",
    "plt.scatter(x,y, label=\"ps1_data1\")\n",
    "plt.title('2019 World Happiness by Country')\n",
    "plt.xlabel(r'Per Capita GPD')\n",
    "plt.ylabel(r'Happiness Score')\n",
    "plt.legend()"
   ]
  },
  {
   "cell_type": "markdown",
   "metadata": {
    "deletable": false,
    "editable": false,
    "nbgrader": {
     "cell_type": "markdown",
     "checksum": "f2e03312c1967f7620840785cfcde404",
     "grade": false,
     "grade_id": "cell-ccc4359102f38e22",
     "locked": true,
     "schema_version": 3,
     "solution": false,
     "task": false
    }
   },
   "source": [
    "## III. Implementing Gradient Descent\n",
    "\n",
    "\n",
    "Now we will implement gradient descent to fit the **linear regression** parameters $\\boldsymbol{\\theta} = (\\theta_0,\\theta_1)$ to the data set, `data`.\n",
    "\n",
    "### Univariate Linear Regression\n",
    "\n",
    "A univariate linear regression has one _independent variable or regressor, x,_ which is called a _feature_ in machine learning. The _dependent variable_ or _target_ variable $y$, is the  true happiness score.  The goal is to fit a linear model to estimate or predict the value of $y$, happiness, as some linear function of $x$, per capita GDP. Specifically, the hypothesis $h(x; \\boldsymbol{\\theta})$ is determined by $\\boldsymbol{\\theta}$, a two-dimensional vector $\\boldsymbol{\\theta} = (\\theta_0,\\theta_1)$, and the single feature $ x_1$, such that $$h(x; \\boldsymbol{\\theta}) = \\theta_0 + \\theta_1x_1.$$\n",
    "\n",
    "\n",
    "To fit a model of this form to data, we need a way to pick values for $\\theta_0$ and $ \\theta_1$ that \"best fit\" the data. Intuitively, we want to select parameters that minimize the error of its estimates of the known values for $y$ in the training data. Specifying, we will use <b>residual squared error (RSS)</b> as the numeric measure of performance and <b>ordinary least squares</b> as the definition of \"best fit.\"  Defining the precise form of this minimization task is done by defining the optimization objective of the algorithm, which is the next step."
   ]
  },
  {
   "cell_type": "markdown",
   "metadata": {
    "deletable": false,
    "editable": false,
    "nbgrader": {
     "cell_type": "markdown",
     "checksum": "90a98596f84aa30b4e6710f53fcf8d81",
     "grade": false,
     "grade_id": "cell-daf616dda72c96f2",
     "locked": true,
     "schema_version": 3,
     "solution": false,
     "task": false
    }
   },
   "source": [
    "### Optimization Objective\n",
    "\n",
    "The optimization objective of linear regression is to minimize the <b>residual sum of squares</b>, RSS,  \n",
    "\n",
    "$$RSS = \\sum_{i=1}^m (\\hat{\\epsilon}^{(i)})^2 = \\sum_{i=1}^{m} (y^{(i)} - (\\hat{\\theta}_0 + \\hat{\\theta}_1x^{(i)} ))^2$$\n",
    "\n",
    "where RSS is the standard <b>loss function</b> used for fitting linear regression models.  The <b>mean squared error</b> (MSE) is $\\frac{RSS}{m}$.  The cost function $J(\\boldsymbol{\\theta})$ we will minimize is\n",
    "\n",
    "$$J(\\boldsymbol{\\theta}) = \\frac{1}{2m}\\sum_{i=1}^m (h(x^{(i)}; \\boldsymbol{\\theta}) - y^{(i)})^2$$\n",
    "\n",
    "which is $\\frac{1}{2} * MSE$. \n",
    "\n",
    "The index $i$ ranges over the number of training examples, $m$, in `data`. Informally, the cost function $J$ applied to $\\begin{align} \\boldsymbol{\\theta} & = (\\hat{\\theta}_0,\\hat{\\theta}_1)\\end{align}$ assesses the \"cost\" of using particular values for $\\hat{\\theta}_0$ and $\\hat{\\theta}_1$ to fit a straight line to `data`, measured as mean squared-error loss, and the optimization problem is one of picking values for $\\hat{\\theta}_0$ and for $\\hat{\\theta}_1$ that makes those costs as close to zero as possible. Unpacking the right side of this equation further, for each training example $i$ (that is, for each $i$ of the $m$ rows of `data` ), a hypothesis $h$ parameterized by $\\boldsymbol{\\theta}$ looks at the feature $x$ of the $i$th training example, written $x^{(i)}$, and computes an estimate of the value of $y$ for this $i$th example, written $h(x^{(i)}; \\boldsymbol{\\theta})$. The total loss then is the average squared-error loss for all $m$ training examples.\n",
    "\n",
    "Specifically, the optimization objective is to minimize the cost function $J(\\boldsymbol\\theta)$, written as $\\min_{\\boldsymbol{\\theta}} J(\\boldsymbol\\theta)$. The fraction $\\frac{1}{2}$ and changing $(y - h)^2$ in RSS to $(h- y)^2$ are each mathematical conveniences that make the next step simplier and more intuitive, respectively. \n",
    "\n",
    "<div class=\"alert alert-info\"><b>Notation 1</b>: In frequentist statistics $\\boldsymbol{\\theta}$ is the true but unknown parameter and $\\hat{\\boldsymbol{\\theta}}$ is an estimate of that unknown parameter. In short, the <b>estimators</b> that we construct, manipulate, and evaluate all wear hats. But, since we never deal directly with \"true but unknown\" parameters, when the discussion turns to coding we drop the hat notation entirely. </div>"
   ]
  },
  {
   "cell_type": "markdown",
   "metadata": {
    "deletable": false,
    "editable": false,
    "nbgrader": {
     "cell_type": "markdown",
     "checksum": "c7c99b265f04c1da228291a28c5bfe7c",
     "grade": false,
     "grade_id": "cell-0d2eb27e9dd8e26d",
     "locked": true,
     "schema_version": 3,
     "solution": false,
     "task": false
    }
   },
   "source": [
    "\n",
    "### Implementation\n",
    "\n",
    "The adjustable parameters of a univariate regression model $h(x^{(i)}; \\boldsymbol{\\theta})$  are $\\theta_0$ and $\\theta_1$ in $\\mathbb{R}$-- or, if you did not read the previous remark about notation, $\\hat{\\theta}_0$ and $\\hat{\\theta}_1$ in $\\mathbb{R}$. The parameters $\\theta_0$ and $\\theta_1$  determine the $y$-intercept and slope, respectively.  They are the values that gradient descent changes to minimize the cost $J(\\boldsymbol{\\theta})$.\n",
    "\n",
    "There are a family of gradient descent algorithms. We will implement **batch gradient descent**. In batch gradient descent, at each iteration of the algorithm the values for the parameter vector $\\boldsymbol{\\theta}$ (should!) change  closer to the optimal values that realize the lowest cost $ J(\\boldsymbol\\theta)$.  \n",
    "\n",
    "<div class=\"alert alert-info\"><b>Notation 2</b>:  The actual optimal parameter values that minimizes $J$ are unknown.  If our discussion were to dwell on the difference between the actual parameters and our estimated parameters, then we'd be compelled to put hats on the estimated parameters to distinguish them from the actual parameters. Becoming comfortable with different conventions for notation is part of becoming a proficient data scientist.\n",
    "</div>\n",
    "\n",
    "\n",
    "At each step batch gradient descent **simultaneously updates** all parameters $ \\theta_j $: \n",
    "\n",
    "$$\\theta_j := \\theta_j - \\alpha \\frac{1}{m} \\sum_{i=1}^{m}(h(x^{(i)}; \\boldsymbol{\\theta}) - y^{(i)})x^{(i)} \\quad \\mbox{simultaneous update of } \\theta_j, \\mbox{ for all }j.$$\n",
    "\n",
    "The next series of steps guides you through an implementation of gradient descent.\n",
    "\n",
    "___\n",
    "\n",
    "**Step 1**. Observe that there are two scalar parameters, $\\theta_0$ and $\\theta_1$, but only one feature in `data`. (Check the shape of `x` if you are unconvinced.) Since $\\theta_0$ is the y-intercept term, this is the same as if we multiplied $\\theta_0$ by 1, for each <i>m</i> entries. We say that $x_0$ = 1 is a **intercept term**, and we add intercept terms in such cases to ensure that feature vectors and parameter vectors are <b>comformable</b>.\n",
    "\n",
    "\n",
    "\n",
    "With this explanation in mind, add a column of 1's to the single column feature vector within data. This new row of ones is to accommodate the $y$-intercept parameter, $\\theta_0$.  \n",
    "\n",
    "Mathematically, you will have created a $(m, 2)$-matrix $X$ that is conformable with the vector $\\boldsymbol{\\theta}$:\n",
    "\n",
    "$$\n",
    "X = \\begin{bmatrix}\n",
    "1 & x^{(1)}\\\\\n",
    "1 & x^{(2)}\\\\\n",
    "1 & x^{(3)}\\\\\n",
    "\\vdots & \\vdots\\\\\n",
    "1 & x^{(m)}\\\\\n",
    "\\end{bmatrix}\n",
    "$$\n",
    "\n",
    "The shape of the array `X` should be ($m$,2)\n",
    "\n",
    "\n",
    "The next step is to initialize a $(2,)$ array, called `theta` , which initializes the values for $\\theta_0$ and $\\theta_1$, respectively. \n",
    "\n",
    "\n",
    "Our gradient descent algorithm will update `theta` in order to minimize the cost function <i>J</i>.\n",
    "\n",
    "Running the next cell initializes the variables `X` and `theta` for you."
   ]
  },
  {
   "cell_type": "code",
   "execution_count": 12,
   "metadata": {
    "deletable": false,
    "nbgrader": {
     "cell_type": "code",
     "checksum": "5626dd8bd68c1dd3344324c23bd310ab",
     "grade": false,
     "grade_id": "initialize_arrays",
     "locked": false,
     "schema_version": 3,
     "solution": true,
     "task": false
    }
   },
   "outputs": [],
   "source": [
    "def initialize(data_array, init_theta0, init_theta1):\n",
    "    \"\"\"Initialize data and parameters for ps1_data1.csv\n",
    "    \n",
    "            data_array  - an (m,2) np.array\n",
    "            init_theta0 - float\n",
    "            init_theta1 - float\n",
    "        \n",
    "    and returns two global variables:\n",
    "        X     an (m,2) array: a column of 1s and the first column of data_array, where m\n",
    "              is the number of rows in data_array\n",
    "        theta a (2,) vector initialized to init_theta0 and init_theta_1\n",
    "    \n",
    "    Your function should work for any (m,2) array, formatted as ps1_data1.csv is wrt \n",
    "    feature column and target column, and any floats init_theta_0, init_theta1\n",
    "    \"\"\"\n",
    "    # YOUR CODE HERE\n",
    "    theta = np.array([init_theta0, init_theta1])\n",
    "    \n",
    "    x, y, m = setVariables(data_array)\n",
    "    \n",
    "    X = np.c_[ np.ones(m), x ] #hstack - horizontal concatenation\n",
    "    return theta, X"
   ]
  },
  {
   "cell_type": "code",
   "execution_count": 13,
   "metadata": {
    "deletable": false,
    "editable": false,
    "nbgrader": {
     "cell_type": "code",
     "checksum": "0c8e6e310d29fea0d1f1bd7df5157aac",
     "grade": true,
     "grade_id": "initialize_arrays_test-1",
     "locked": true,
     "points": 0.5,
     "schema_version": 3,
     "solution": false,
     "task": false
    }
   },
   "outputs": [],
   "source": [
    "# TEST CELL"
   ]
  },
  {
   "cell_type": "code",
   "execution_count": 14,
   "metadata": {},
   "outputs": [],
   "source": [
    "# initialize the arrays with your function\n",
    "theta, X = initialize(data, 0.0,0.0)"
   ]
  },
  {
   "cell_type": "markdown",
   "metadata": {
    "deletable": false,
    "editable": false,
    "nbgrader": {
     "cell_type": "markdown",
     "checksum": "67d65430bcf1ea1943c93d31dd0fd8d1",
     "grade": false,
     "grade_id": "cell-30394b510bba058a",
     "locked": true,
     "schema_version": 3,
     "solution": false,
     "task": false
    }
   },
   "source": [
    "---\n",
    "## Question 1\n",
    "\n",
    "Suppose that in addition to \"<i>per capita GDP</i>\" ($x_1$) you also had the average \"<i>life expectancy</i>\" ($x_2$) for each country to use as features in a linear model to estimate each country's <i>happiness score</i>. \n",
    "\n",
    "Which of the following statements encode such a model? Select all and only that apply.\n",
    "\n",
    "* A) $h(\\boldsymbol{x}; \\boldsymbol{\\theta}) = \\theta_0 + \\theta_1x_1 + \\theta_2x_2$\n",
    "* B) $h(\\boldsymbol{x}; \\boldsymbol{\\theta}) = \\theta_0 + \\theta_1x_1 + x_2$\n",
    "* C) $h(\\boldsymbol{x}; \\boldsymbol{\\theta}) = \\theta_0 + \\theta_1x_1 x_2$\n",
    "\n",
    "Suppose now you wish to initialize a data array and parameter vector for this model.  Which block of code could you use for this model?  (Assume as above that the last column of `data` is the target, $y$.)\n",
    "\n",
    "* D) \n",
    "~~~python\n",
    "# initialize data array\n",
    "X = np.ones((m, 3))\n",
    "X[:,1] = data[:,0]\n",
    "# initalize model\n",
    "theta = np.zeros(2)\n",
    "~~~\n",
    "\n",
    "* E) \n",
    "~~~python\n",
    "# initialize data array\n",
    "X = np.ones((m, 3))\n",
    "X[:,0] = data[:,0]\n",
    "X[:,1] = data[:,1]\n",
    "# initalize model\n",
    "theta = np.zeros(3)\n",
    "~~~\n",
    "\n",
    "* F) \n",
    "~~~python\n",
    "# initialize data array\n",
    "X = np.ones((m, 3))\n",
    "X[:,1] = data[:,0]\n",
    "X[:,2] = data[:,1]\n",
    "# initalize model\n",
    "theta = np.zeros(3)\n",
    "~~~\n",
    "\n",
    "From the list of possible answers `['A', 'B', 'C', 'D', 'E', 'F]` , record your answer or answers as a <b>list</b> in the next cell by completing the function `ans_one()`.  For example, if the possible answers were `['P','Q','R']` and you selected P and Q as the correct answers, then you would simply write:\n",
    "~~~python\n",
    "ans = ['P', 'Q']\n",
    "~~~\n",
    "in the function `ans_one()`.\n",
    "\n",
    "---\n",
    "\n",
    "### Q1 Answer:"
   ]
  },
  {
   "cell_type": "code",
   "execution_count": 15,
   "metadata": {
    "deletable": false,
    "nbgrader": {
     "cell_type": "code",
     "checksum": "3b8ecf4e123a6182ce1dc7bf17555fb4",
     "grade": false,
     "grade_id": "ans_one-answer",
     "locked": false,
     "schema_version": 3,
     "solution": true,
     "task": false
    }
   },
   "outputs": [],
   "source": [
    "def ans_one():\n",
    "    \"\"\" Returns a list of your answers.  \n",
    "    \n",
    "    Parameters\n",
    "    ----------\n",
    "    :ans:  list\n",
    "        The list of your answers. Elements of :ans: are strings.\n",
    "    Returns\n",
    "    -------\n",
    "    :ans:\n",
    "    \"\"\"\n",
    "    \n",
    "    ans = ['A', 'F'] #!!!! E would work but not with A. \n",
    "    return ans"
   ]
  },
  {
   "cell_type": "code",
   "execution_count": 17,
   "metadata": {
    "deletable": false,
    "editable": false,
    "nbgrader": {
     "cell_type": "code",
     "checksum": "31fc52274ff77896f4a8e8f66d3bfe3f",
     "grade": true,
     "grade_id": "ans_one-test",
     "locked": true,
     "points": 1,
     "schema_version": 3,
     "solution": false,
     "task": false
    }
   },
   "outputs": [],
   "source": [
    "# test cell for ans_one()\n",
    "ans = ans_one()\n",
    "%run -i 'ans_format_test.py'"
   ]
  },
  {
   "cell_type": "markdown",
   "metadata": {
    "deletable": false,
    "editable": false,
    "nbgrader": {
     "cell_type": "markdown",
     "checksum": "432d65275004731a306416d3c1790b9f",
     "grade": false,
     "grade_id": "cell-98e89d3a79671865",
     "locked": true,
     "schema_version": 3,
     "solution": false,
     "task": false
    }
   },
   "source": [
    "**Step 2.** Compute the squared-error cost function from above:\n",
    "\\begin{align} \\frac{1}{2m}\\sum_{i=1}^m (h(x^{(i)}; \\boldsymbol{\\theta}) - y^{(i)})^2 \\end{align}\n",
    "\n",
    "The function `costJ(X, y, theta)` takes as arguments the (_m_, 2)-dimension features array, `X` ,the (_m_, 1)-dimension target column vector, `y`, and the initial two-element parameter vector `theta`.\n",
    "\n",
    "There are several ways to implement this code, but a good strategy is to break the operation down into several steps and implement those steps as separate lines of code. Here is one way to attack the problem in two lines of code.\n",
    "\n",
    "<u>First Line of Code</u>\n",
    "\n",
    "Setting aside the indices, notice the general form of the hypothesis: $$h(x; \\boldsymbol{\\theta}) = \\theta_0x_0 + \\theta_1x_1.$$ Our first operation, then, is to multiply each $x^{(i)}$ in the second column of X by $\\theta_1$ and to keep $\\theta_0$ as is, which is why we added a column of 1s to X above: that is, $\\begin{align} x_0 =  1\\end{align}$ for all _m_ training examples. Then, for each estimate you can subtract the corresponding values of $y$.  \n",
    "\n",
    "<div class=\"alert alert-info\"> <b>Hint</b>: We deliberately highlighted the dimensions of the arrays 'X' and ‘theta’ because there is a nice result from matrix algebra. Let $\\boldsymbol{X}$ and $\\boldsymbol{\\theta}$ be:\n",
    "    \n",
    " $$\\boldsymbol{X} = \\begin{bmatrix} \n",
    " \t\t\t\t1 & x_1^{(1)}  \\\\ \n",
    "\t\t\t\t1 & x_1^{(2)}   \\\\ \n",
    "\t\t\t\t1 & x_1^{(3)}   \\\\ \n",
    "\t\t\t\t\\vdots & \\vdots \\\\\n",
    "\t\t\t\t1 & x_1^{(m)}  \n",
    "\t\t\t\\end{bmatrix}\n",
    "\t\t\t%\n",
    "\t\t\t\\quad\n",
    "\t\t\t%\n",
    "\t\t\t%\n",
    " \\boldsymbol{\\theta} = \\begin{bmatrix} \\theta_0 \\\\ \\theta_1\n",
    "\t\\end{bmatrix}$$\n",
    "    \n",
    "Then,    \n",
    "$$\\begin{bmatrix} \n",
    " \t\t\t\t1 \\\\\n",
    "\t\t\t\t1 \\\\\n",
    "\t\t\t\t\\vdots \\\\\n",
    "\t\t\t\t1\n",
    "\t\t   \\end{bmatrix}\n",
    "\\theta_0  +\n",
    "%\n",
    " \\begin{bmatrix} \n",
    " \t\t\t\tx_1^{(1)}  \\\\\n",
    "\t\t\t\tx_1^{(2)}  \\\\\n",
    "\t\t\t\t\\vdots \\\\\n",
    "\t\t\t\tx_1^{(m)} \n",
    "\t\t   \\end{bmatrix}\n",
    "\\theta_1\n",
    "= \n",
    "\\begin{bmatrix} \n",
    " \t\t\t\t\\theta_0 + \\theta_1x^{(1)} \\\\ \n",
    "\t\t\t\t\\theta_0 + \\theta_1x^{(2)} \\\\ \n",
    "\t\t\t\t\\vdots \\\\\n",
    "\t\t\t\t\\theta_0 + \\theta_1x^{(m)} \\\\ \n",
    "\t\t\t\\end{bmatrix} = \\boldsymbol{X\\theta}$$\n",
    "\n",
    "where $\\boldsymbol{X\\theta}$ is an $m \\times 1$ vector. \n",
    "\n",
    "See the tutorial, `t1-numpy.ipynb`, for information about `np.dot` specifically, and about matrix multiplication in general.</div>\n",
    "\n",
    "The first step is to compute the difference between each of the $m$ estimates in the vector $\\boldsymbol{X\\theta}$ and the corresponding target values in the vector $y$. The next step is to square this difference, which we may use the built-in NumPy function `np.power(---,---)`.\n",
    "\n",
    "So, the vector of quantities $(h(x^{(i)}; \\boldsymbol{\\theta}) - y^{(i)})^2$ for each _i_ of the _m_ examples can be computed and stored to a local variable `scores` with one line of code of the form\n",
    "\n",
    "~~~python\n",
    "# YOUR CODE HERE\n",
    "scores = np.power(---, ---)\n",
    "return\n",
    "~~~  \n",
    "\n",
    "\n",
    "<u>Second Line of Code</u>\n",
    "\n",
    "What remains is to sum `scores` and divide by the number of training examples multiplied by two. The result should be a scalar saved to the variable `ans`:\n",
    "\n",
    "~~~python\n",
    "# YOUR CODE HERE\n",
    "scores = np.power(---, ---)\n",
    "ans = ---\n",
    "return ans\n",
    "~~~\n",
    "\n",
    "where `ans` will use the value computed in the first line of code and saved to the variable `scores`. \n"
   ]
  },
  {
   "cell_type": "code",
   "execution_count": 18,
   "metadata": {
    "deletable": false,
    "nbgrader": {
     "cell_type": "code",
     "checksum": "979c88f3536c3cc985b98515affebcec",
     "grade": false,
     "grade_id": "costJ",
     "locked": false,
     "schema_version": 3,
     "solution": true,
     "task": false
    }
   },
   "outputs": [],
   "source": [
    "def costJ(X, y, theta):\n",
    "    \"\"\"Implement the squared-error cost function, compute_cost_J.\n",
    "    compute_cost_J(X, y, theta) computes the cost of using the\n",
    "    theta to parameterize a linear regression hypothesis to fit\n",
    "    the data in X and y.\n",
    "    \"\"\"\n",
    "    # YOUR CODE HERE\n",
    "    cost = np.dot(X, theta)\n",
    "    scores = np.power((cost - y), 2)\n",
    "    \n",
    "    ans = np.divide(np.sum(scores), 2*m)\n",
    "    \n",
    "    return ans"
   ]
  },
  {
   "cell_type": "code",
   "execution_count": 19,
   "metadata": {
    "deletable": false,
    "editable": false,
    "nbgrader": {
     "cell_type": "code",
     "checksum": "6bb4f2067146165e30330da64d386fa9",
     "grade": true,
     "grade_id": "costJ-test1",
     "locked": true,
     "points": 1,
     "schema_version": 3,
     "solution": false,
     "task": false
    }
   },
   "outputs": [],
   "source": [
    "\"\"\"Test cell 1 for costJ\"\"\"\n",
    "assert round(costJ(X,y,theta), 1) == 15.0"
   ]
  },
  {
   "cell_type": "code",
   "execution_count": 20,
   "metadata": {
    "deletable": false,
    "editable": false,
    "nbgrader": {
     "cell_type": "code",
     "checksum": "ded5137b7a4a0c66af4628d4dce2ec54",
     "grade": true,
     "grade_id": "costJ-test2",
     "locked": true,
     "points": 1,
     "schema_version": 3,
     "solution": false,
     "task": false
    }
   },
   "outputs": [
    {
     "data": {
      "text/plain": [
       "'Test cell 2 for costJ'"
      ]
     },
     "execution_count": 20,
     "metadata": {},
     "output_type": "execute_result"
    }
   ],
   "source": [
    "\"\"\"Test cell 2 for costJ\"\"\""
   ]
  },
  {
   "cell_type": "markdown",
   "metadata": {
    "deletable": false,
    "editable": false,
    "nbgrader": {
     "cell_type": "markdown",
     "checksum": "96d1ef3e688b46e1e17a6b702f22f3ee",
     "grade": false,
     "grade_id": "cell-4d71ef4a29312e25",
     "locked": true,
     "schema_version": 3,
     "solution": false,
     "task": false
    }
   },
   "source": [
    "**Step 3**. We now turn to the implementation of gradient descent. The function,\n",
    "    \n",
    "    batchGradientDescent(X, y, theta, alpha, num_iterations)\n",
    "    \n",
    "takes 5 arguments:\n",
    "\n",
    "    X - an array of features from data\n",
    "    y - an array of labels from data\n",
    "    theta - an array of parameters that gradient descent adjust to minimize loss according to J_cost\n",
    "    alpha - the learning rate\n",
    "    num_iterations - the number of iterations that the algorithm runs before terminating.\n",
    "\n",
    "The loop structure to iterate gradient descent `num_iterations` times is given for you. What is missing are the simultaneous updates of the two components of __$\\theta$__, namely $\\theta_0$ and $\\theta_1$.\n",
    "\n",
    "\n",
    "\n",
    "__Gradient Descent Algorithm__\n",
    "\n",
    "    Enter loop\n",
    "        Repeat:\n",
    "               \n",
    "$$\\theta_0=:\\theta_0 - \\alpha \\frac{\\partial} {\\partial \\theta_0} J(\\theta_0, \\theta_1)$$\n",
    "$$\\theta_1=:\\theta_1 - \\alpha \\frac{\\partial} {\\partial \\theta_1} J(\\theta_0, \\theta_1)$$\n",
    "         \n",
    "        Stop at convergence\n",
    "    Exit loop\n",
    "    \n",
    "\n",
    "What you will need to do complete two steps within the for loop, namely update theta and create a history of the computed cost function _J($\\theta$)_ for each\n",
    "iteration of the algorithm.\n",
    "\n",
    "\n",
    "__1. Update theta__\n",
    "\n",
    "The code initializes `theta_new` as a copy of theta. Within the for loop, your simultaeous update of `theta_new` should be completed in one line of\n",
    "_vectorized code_:\n",
    "\n",
    "```python \n",
    "theta_new -= alpha <operation> --- # complete your line of code  \n",
    "```\n",
    "\n",
    "with `<operation>` from the set {—, $*$, /} and `-=` a built-in [assignment operator](https://stackoverflow.com/questions/37845445/and-symbols-in-python/37845498). Note that `X.T` is the transposition of array `X`.\n",
    "\n",
    "\n",
    "<div class=\"alert alert-info\"> <b>Hint</b>: The partial derivative terms for each component $\\theta_j$ of the parameter vector $\\boldsymbol{\\theta}$ for is:\n",
    "$$\n",
    "\\theta_j:   {\\frac{\\partial}{\\partial\\theta_j}  J(\\theta_1, \\ldots, \\theta_j \\ldots, \\theta_n)} \\ = \\ \\frac{1}{m} \\sum_{i=1}^m (h(x^{(i)}; \\boldsymbol{\\theta}) - y^{(i)}) \\cdot x_j^{(i)}, $$\n",
    "where $x_0^{(i)} = 1$ for all $i$. \n",
    "    \n",
    "We saw above that $h(x^{(i)}; \\boldsymbol{\\theta}) - y^{(i)})$ is calculated by $X \\theta$. Then, the partial derivatives are either computed by $(X \\theta) X$ or $(X \\theta) X^T$. Which is it? Why? </div>\n",
    "  \n",
    "__2. Store history of the cost function J__\n",
    "\n",
    "The second step is to write into the $j$th element of the vector `J_history` the result from computing the cost determined by executing costJ using `theta_new` that was just updated in the $j$th iternation. Bear in mind that `idx` is used as the index for `num_iterations`, to avoid confusing this for indices used to index rows ($i$) and columns ($j$) of our training set.\n",
    "___\n",
    "\n",
    "Now, complete the implementation of gradient descent."
   ]
  },
  {
   "cell_type": "code",
   "execution_count": 21,
   "metadata": {
    "deletable": false,
    "nbgrader": {
     "cell_type": "code",
     "checksum": "7b6a3e1e23bea1efdf99977d63c16322",
     "grade": false,
     "grade_id": "cell-c89997583053c8e9",
     "locked": false,
     "schema_version": 3,
     "solution": true,
     "task": false
    }
   },
   "outputs": [],
   "source": [
    "def batchGradientDescent(X, y, theta, alpha, num_iterations):\n",
    "    \"\"\"gradient_descent performs batch gradient descent to minimize theta and return a history\n",
    "    of the gradient steps to plot.\n",
    "\n",
    "    gradient_descent updates theta by taking a number of gradient steps, fixed by the\n",
    "    parameter num_iterations, where the size of those steps is determined by the learning\n",
    "\n",
    "    rate, alpha.\n",
    "    \"\"\"\n",
    "    ## Initialize variables\n",
    "    # m is the number of training samples\n",
    "    m= len(y)\n",
    "\n",
    "    # J_history is the cost function history, intialized to a vector of zeros\n",
    "    # for each iteration step\n",
    "    J_history = np.zeros(num_iterations)\n",
    "    # initialize theta_new with a copy of theta.\n",
    "\n",
    "    theta_new = theta.copy()\n",
    "    for idx in range(num_iterations):\n",
    "        # 1st line: update theta_new\n",
    "        # 2nd line: update J_history with compute_cost using theta_new\n",
    "        # YOUR CODE HERE\n",
    "        \n",
    "        #prediction = np.dot (X, theta_new)\n",
    "        #theta_new -= alpha* ( X.T.dot ( (prediction - y))) * (1/m)\n",
    "        \n",
    "        #grad = np.dot(X.T, (np.dot(X, theta_new)-y))\n",
    "        \n",
    "        theta_new -= alpha* np.dot(X.T, (np.dot(X, theta_new)-y)) * (1/m)\n",
    "        J_history[idx] = costJ(X , y, theta_new)\n",
    "        \n",
    "\n",
    "    return theta_new, J_history"
   ]
  },
  {
   "cell_type": "markdown",
   "metadata": {
    "deletable": false,
    "editable": false,
    "nbgrader": {
     "cell_type": "markdown",
     "checksum": "06eebdea8ce9b235aeb972b039841a11",
     "grade": false,
     "grade_id": "cell-d15c4c2300cad48a",
     "locked": true,
     "schema_version": 3,
     "solution": false,
     "task": false
    }
   },
   "source": [
    "## III. Running Gradient Descent\n",
    "\n",
    "The next step is to set the learning rate and number of iterations. Setting the correct values for these two parameters depends on the data set. In practise, you would need to try out different values of these parameters to see how your alhorithm performed. But,I provide you with parameter settings that will work if your code up to now is implemented correctly.  \n",
    "\n",
    "Specifically, be sure the next cell has the following parameter values:\n",
    "\n",
    "~~~python\n",
    "## gradient_descent adjustable parameters\n",
    "# learning rate\n",
    "alpha = 0.2\n",
    "#number of iterations\n",
    "iterations = 1100\n",
    "~~~"
   ]
  },
  {
   "cell_type": "code",
   "execution_count": 22,
   "metadata": {},
   "outputs": [],
   "source": [
    "## gradient_descent adjustable parameters\n",
    "# learning rate\n",
    "alpha = 0.2\n",
    "#number of iterations\n",
    "iterations = 1100"
   ]
  },
  {
   "cell_type": "markdown",
   "metadata": {
    "deletable": false,
    "editable": false,
    "nbgrader": {
     "cell_type": "markdown",
     "checksum": "69accbf7d10fea078af35e666a647dde",
     "grade": false,
     "grade_id": "cell-0b798470b6f642c3",
     "locked": true,
     "schema_version": 3,
     "solution": false,
     "task": false
    }
   },
   "source": [
    "Run the next cell to instantiate `alpha` and `iterations`.\n",
    "Now we are ready to run gradient descent with the parameter settings for `alpha` and the number of `iterations` excuting the following line of code in the next cell."
   ]
  },
  {
   "cell_type": "code",
   "execution_count": 23,
   "metadata": {},
   "outputs": [],
   "source": [
    "# run gradient descent\n",
    "theta_new, J_history = batchGradientDescent(X, y, theta, alpha, iterations)\n"
   ]
  },
  {
   "cell_type": "markdown",
   "metadata": {
    "deletable": false,
    "editable": false,
    "nbgrader": {
     "cell_type": "markdown",
     "checksum": "acf0a060e6117dceb606b182635400a4",
     "grade": false,
     "grade_id": "cell-0f71100dcf57f657",
     "locked": true,
     "schema_version": 3,
     "solution": false,
     "task": false
    }
   },
   "source": [
    "Gradient descent (correctly parameterized by `alpha` and `iterations`) returns values for $\\theta_0$ and $\\theta_1$ stored in `theta_new`,along with `J_history`.\n",
    "\n",
    "Run the next cell to see the values for $\\theta_0$ and $\\theta_1$."
   ]
  },
  {
   "cell_type": "code",
   "execution_count": 24,
   "metadata": {},
   "outputs": [
    {
     "data": {
      "text/plain": [
       "array([3.22558776, 2.164952  ])"
      ]
     },
     "execution_count": 24,
     "metadata": {},
     "output_type": "execute_result"
    }
   ],
   "source": [
    "# Check the output of batchGradientDescent\n",
    "theta_new"
   ]
  },
  {
   "cell_type": "markdown",
   "metadata": {
    "deletable": false,
    "editable": false,
    "nbgrader": {
     "cell_type": "markdown",
     "checksum": "1310f648faa9e9ce20382386b0a39a65",
     "grade": false,
     "grade_id": "cell-ef954a0cd14dbbf5",
     "locked": true,
     "schema_version": 3,
     "solution": false,
     "task": false
    }
   },
   "source": [
    "When implemented correctly, running `batchGradientDescent` on `data` with learning rate `alpha = 0.2` and `iterations = 1100` should return a value for $\\theta_0$ that is aproximately $3.2$ and a value for $\\theta_1$ that is aproximately $2.2$, and `J_history` should be an array of monotonically decreasing values.\n",
    "\n",
    "\n",
    "The following cells are hidden test cells that are used for grading. We will not label test cells hereafter. "
   ]
  },
  {
   "cell_type": "code",
   "execution_count": 25,
   "metadata": {
    "deletable": false,
    "editable": false,
    "nbgrader": {
     "cell_type": "code",
     "checksum": "61473303f152655e913b61fadc529942",
     "grade": true,
     "grade_id": "BGD-test1",
     "locked": true,
     "points": 1,
     "schema_version": 3,
     "solution": false,
     "task": false
    }
   },
   "outputs": [],
   "source": [
    "# TEST CELL"
   ]
  },
  {
   "cell_type": "code",
   "execution_count": 26,
   "metadata": {
    "deletable": false,
    "editable": false,
    "nbgrader": {
     "cell_type": "code",
     "checksum": "7e0a6c9ff6e6ec03129b10387e26a9fc",
     "grade": true,
     "grade_id": "BDG-test2",
     "locked": true,
     "points": 1,
     "schema_version": 3,
     "solution": false,
     "task": false
    }
   },
   "outputs": [],
   "source": [
    "# TEST CELL"
   ]
  },
  {
   "cell_type": "code",
   "execution_count": 27,
   "metadata": {
    "deletable": false,
    "editable": false,
    "nbgrader": {
     "cell_type": "code",
     "checksum": "c831b38a4f503a39d50c1046c88a84c7",
     "grade": true,
     "grade_id": "BGD-test3",
     "locked": true,
     "points": 0.5,
     "schema_version": 3,
     "solution": false,
     "task": false
    }
   },
   "outputs": [],
   "source": [
    "# TEST CELL"
   ]
  },
  {
   "cell_type": "markdown",
   "metadata": {
    "deletable": false,
    "editable": false,
    "nbgrader": {
     "cell_type": "markdown",
     "checksum": "56d814bda211653ed00210c816123015",
     "grade": false,
     "grade_id": "cell-9171f4c3368f3043",
     "locked": true,
     "schema_version": 3,
     "solution": false,
     "task": false
    }
   },
   "source": [
    "## IV. Visualization, Tuning, and Debugging\n",
    "\n",
    "### Plotting the history of J\n",
    "\n",
    "The variable J_history stores the computed cost function for each iteration of batchGradientDescent , which for our example we set to 1100 iterations. How do we determine that number of iterations is long enough to converge? One way to do this is to plot the value of $J(\\theta)$ at each iteration to see its\n",
    "performance.\n",
    "\n",
    "The next cell plots `J_history` with your initial parameters.  If your implementation is correct, your cost function should decrease with each iteration and <i>loosely</i> resemble the following plot, which is taken from a different problem:   \n",
    "\n",
    "<img src=\"ps1_fig0.png\" alt=\"sample learning rate\" width=\"400\"/>\n",
    "\n",
    "<div class=\"alert alert-info\"><b>Hint:</b> You can use this plot to check whether you have implemented `batchGradientDescent` correctly, and perhaps to give you clues about how to correct\n",
    "your code if you find something amiss.</div>"
   ]
  },
  {
   "cell_type": "code",
   "execution_count": 28,
   "metadata": {},
   "outputs": [
    {
     "data": {
      "text/plain": [
       "Text(0, 0.5, '$J(\\\\theta)$')"
      ]
     },
     "execution_count": 28,
     "metadata": {},
     "output_type": "execute_result"
    },
    {
     "data": {
      "image/png": "[encoded data removed]",
      "text/plain": [
       "<Figure size 432x288 with 1 Axes>"
      ]
     },
     "metadata": {
      "needs_background": "light"
     },
     "output_type": "display_data"
    }
   ],
   "source": [
    "# Plot cost function vs. iteration\n",
    "plt.plot(J_history)\n",
    "plt.xlabel(r'Iteration number' )\n",
    "plt.ylabel(r'$J(\\theta)$')"
   ]
  },
  {
   "cell_type": "markdown",
   "metadata": {
    "deletable": false,
    "editable": false,
    "nbgrader": {
     "cell_type": "markdown",
     "checksum": "2d6c5744cd43cacb6b8c25574b26bf30",
     "grade": false,
     "grade_id": "cell-5fa3a70db0fd500e",
     "locked": true,
     "schema_version": 3,
     "solution": false,
     "task": false
    }
   },
   "source": [
    "### Selecting Learning Rates\n",
    "\n",
    "We selected the learning rate `alpha = 0.2` and `num_iterations = 1100`. The previous plot can tell you whether your model is converging.  Suppose it does. What further can you do to improve your model?  You can adjust either the learning rate `alpha` or the number of iterations `iters`. \n",
    "\n",
    "Let's look at the case where `iters = 20` and ask whether any different learning rates would be better in terms of minimizing $J(\\theta)$ within the first 20 iterations. To look at several learning rates at once, we can define a list\n",
    "\n",
    "~~~python\n",
    "alphas = [ ---, ---, ---, ---, ---]\n",
    "iters = 20\n",
    "~~~\n",
    "\n",
    "to compute and plot different learning rates at once.\n",
    "\n",
    "In the next cell, supply a range of learning rates to `alpha` to plot and compare with respect to a fixed number of iterations. \n",
    "\n",
    "<div class=\"alert alert-info\"><b>Tip:</b> You may write a piece of code to find a good vector `alpha` of learning rates to plot.  However, keep in mind that the second validation check for your notebook limits that your submission is within an upper bound on computational resources available to grade it.  This computational bound will very likely not affect you in this first assignment, but this ceiling is likely to become a constraint for you to manage in future assignments. </div>\n",
    "\n",
    "Note that this plot and the question below only looks at the first 20 iterations.\n",
    "\n",
    "Run the next cell, then answer the Question 2."
   ]
  },
  {
   "cell_type": "code",
   "execution_count": 29,
   "metadata": {},
   "outputs": [
    {
     "data": {
      "text/plain": [
       "<matplotlib.legend.Legend at 0x7ff0a96c0e50>"
      ]
     },
     "execution_count": 29,
     "metadata": {},
     "output_type": "execute_result"
    },
    {
     "data": {
      "image/png": "[encoded data removed]",
      "text/plain": [
       "<Figure size 432x288 with 1 Axes>"
      ]
     },
     "metadata": {
      "needs_background": "light"
     },
     "output_type": "display_data"
    }
   ],
   "source": [
    "## Finding minimum alpha ------\n",
    "# a = list(np.linspace(0.20, 0.99, 80))\n",
    "# iters = 20\n",
    "# temp = []\n",
    "# for aa in a:\n",
    "#     theta_new, J_history = batchGradientDescent(X, y, theta, aa, iters)\n",
    "#     plt.plot(J_history, label='learning rate={0}'.format(aa) )\n",
    "#     temp.append(J_history[19])\n",
    "    \n",
    "# min_value = min(temp) #find mimimum J\n",
    "\n",
    "# min_index = temp.index(min_value) #find minimum index\n",
    "# print(a[min_index]) #print value of alpha for min value\n",
    "# #0.8400000000000001 -------\n",
    "\n",
    "alphas = [0.78, 0.80, 0.82, 0.84, 0.86]\n",
    "iters = 20\n",
    "for aa in alphas:\n",
    "    theta_new, J_history = batchGradientDescent(X, y, theta, aa, iters)\n",
    "    plt.plot(J_history, label='learning rate={0}'.format(aa) )\n",
    "\n",
    "plt.ylabel(r'$J(\\theta)$')\n",
    "plt.xlabel(r'Number of Iterations' )\n",
    "plt.legend(loc='best', frameon=False)"
   ]
  },
  {
   "cell_type": "markdown",
   "metadata": {
    "deletable": false,
    "editable": false,
    "nbgrader": {
     "cell_type": "markdown",
     "checksum": "c8f93c2f45cf4edd715b13b92b2d38d4",
     "grade": false,
     "grade_id": "cell-fb0a79d046b5e584",
     "locked": true,
     "schema_version": 3,
     "solution": false,
     "task": false
    }
   },
   "source": [
    "---\n",
    "## Question 2\n",
    "\n",
    "What is the learning rate `alpha` that yields the lowest score $J(\\theta)$ after exactly 20 iterations? Limit your search to values of `alpha` to two decimal places.  For example, if `alpha = 0.07` is your answer, you would finish function `ans_two()` by writing\n",
    "\n",
    "~~~python\n",
    " num = 0.07\n",
    "\n",
    "~~~\n",
    "\n",
    "The grader expects your `ans_two()` to return a float `num` of no more than two decimal places. Enter your answer below.\n",
    "\n",
    "---\n",
    "### Q2 Answer:"
   ]
  },
  {
   "cell_type": "code",
   "execution_count": 30,
   "metadata": {
    "deletable": false,
    "nbgrader": {
     "cell_type": "code",
     "checksum": "d865e09b6a872968f3f034f56000f414",
     "grade": false,
     "grade_id": "ans_two",
     "locked": false,
     "schema_version": 3,
     "solution": true,
     "task": false
    }
   },
   "outputs": [],
   "source": [
    "def ans_two():\n",
    "    \"\"\" Returns a float.  \n",
    "    \n",
    "    Parameters\n",
    "    ----------\n",
    "    :num:  float\n",
    "        A scalar representing your choice of alpha.\n",
    "    Returns\n",
    "    -------\n",
    "    :num:\n",
    "    \"\"\"\n",
    "    \n",
    "    # YOUR CODE HERE\n",
    "    num = 0.84\n",
    "    return num"
   ]
  },
  {
   "cell_type": "code",
   "execution_count": 31,
   "metadata": {
    "deletable": false,
    "editable": false,
    "nbgrader": {
     "cell_type": "code",
     "checksum": "c589d42329ef84c71c2b99d3a33a43c1",
     "grade": true,
     "grade_id": "cell-74cfd101ab4b180f",
     "locked": true,
     "points": 0.25,
     "schema_version": 3,
     "solution": false,
     "task": false
    }
   },
   "outputs": [],
   "source": [
    "num = ans_two()\n",
    "if type(num) == float and str(num)[::-1].find('.') <= 2:\n",
    "    assert True\n",
    "else:\n",
    "    raise AssertionError(\"Check that your answer is a float of no more than two decimal places\")"
   ]
  },
  {
   "cell_type": "code",
   "execution_count": 32,
   "metadata": {
    "deletable": false,
    "editable": false,
    "nbgrader": {
     "cell_type": "code",
     "checksum": "4fbaeb370ac17f8c4cf2983556bc8742",
     "grade": true,
     "grade_id": "cell-b8fa64c75b3c251c",
     "locked": true,
     "points": 0.25,
     "schema_version": 3,
     "solution": false,
     "task": false
    }
   },
   "outputs": [],
   "source": [
    "# TEST CELL"
   ]
  },
  {
   "cell_type": "code",
   "execution_count": 33,
   "metadata": {
    "deletable": false,
    "editable": false,
    "nbgrader": {
     "cell_type": "code",
     "checksum": "c72f9615c18a103c40c50078ad24ecaf",
     "grade": true,
     "grade_id": "ans_two-test1",
     "locked": true,
     "points": 0.5,
     "schema_version": 3,
     "solution": false,
     "task": false
    }
   },
   "outputs": [],
   "source": [
    "# TEST CELL"
   ]
  },
  {
   "cell_type": "markdown",
   "metadata": {
    "deletable": false,
    "editable": false,
    "nbgrader": {
     "cell_type": "markdown",
     "checksum": "614043a04cd333089039c405e484ec8d",
     "grade": false,
     "grade_id": "cell-a110ae97236a41a7",
     "locked": true,
     "schema_version": 3,
     "solution": false,
     "task": false
    }
   },
   "source": [
    "---\n",
    "## Question 3\n",
    "\n",
    "Which are true? Mark all and only that apply.\n",
    "\n",
    "Suppose that $J(\\boldsymbol{\\theta})$ is a continuously differentiable and convex function and $\\theta$ is in $\\mathbb{R}^2$.\n",
    "\n",
    "  * A) Gradient Descent is guaranteed to converge to a local minima of <em>J</em> for all learning rates <em>α</em>.\n",
    "  * B) Gradient Descent is guaranteed to converge to a local minima of <em>J</em> for some learning rates <em>α</em>\n",
    "  * C) There is no learning rate <em>α</em> such that Gradient Descent is guaranteed to converge to a local minima of <em>J</em>.\n",
    "  *  D) The gradient of <em>J</em> is zero at the minimum.\n",
    "  * E) The gradient of <em>J</em> points in the direction in $\\mathbb{R}^2$ of the steepest increase in the value of <em>J</em>.\n",
    "  * F) None of the above are true.\n",
    "---\n",
    "\n",
    "### Q3 Answer:"
   ]
  },
  {
   "cell_type": "code",
   "execution_count": 34,
   "metadata": {
    "deletable": false,
    "nbgrader": {
     "cell_type": "code",
     "checksum": "b75a2021f0ad40a209b44d4767295039",
     "grade": false,
     "grade_id": "ans_three",
     "locked": false,
     "schema_version": 3,
     "solution": true,
     "task": false
    }
   },
   "outputs": [],
   "source": [
    "def ans_three():\n",
    "    \"\"\" Returns a list of your answers.  \n",
    "    \n",
    "    Parameters\n",
    "    ----------\n",
    "    :ans:  list\n",
    "        The list of your answers. Elements of :ans: are strings.\n",
    "    Returns\n",
    "    -------\n",
    "    :ans: ['B', 'D', 'E']\n",
    "    \"\"\"\n",
    " \n",
    "    # YOUR CODE HERE\n",
    "    ans = ['B', 'D', 'E']\n",
    "    return ans"
   ]
  },
  {
   "cell_type": "code",
   "execution_count": 35,
   "metadata": {
    "deletable": false,
    "editable": false,
    "nbgrader": {
     "cell_type": "code",
     "checksum": "1ae75885ecc406c4c4729fb7537355f3",
     "grade": true,
     "grade_id": "ans_three-test",
     "locked": true,
     "points": 1,
     "schema_version": 3,
     "solution": false,
     "task": false
    }
   },
   "outputs": [],
   "source": [
    "# test cell for ans_three()\n",
    "ans = ans_three()\n",
    "%run -i 'ans_format_test.py'"
   ]
  },
  {
   "cell_type": "markdown",
   "metadata": {
    "deletable": false,
    "editable": false,
    "nbgrader": {
     "cell_type": "markdown",
     "checksum": "8c20419ba66f6829b1222d9322f9c2e3",
     "grade": false,
     "grade_id": "cell-1f23e9f991d222b8",
     "locked": true,
     "schema_version": 3,
     "solution": false,
     "task": false
    }
   },
   "source": [
    "---\n",
    "## Question 4\n",
    "\n",
    "Instead of Gradient Descent, which we are using to compute an approximate solution to OLS regression, we can instead use the Normal Equation to calculate an analytical solution. \n",
    "\n",
    "Which of the following is true about the Normal Equation? Mark all and only that apply.\n",
    "\n",
    "  * A) The number of features must be less than the number of training examples.\n",
    "  * B) There is no learning rate hyperparameter to choose.\n",
    "  * C) There is no need to iterate.\n",
    "  * D) The speed of computing the normal equation slows linearly as the number of features increases.\n",
    "  * E) The speed of computing the normal equation slows linearly as the number of training examples increases.\n",
    "  * F) None of the above are true.\n",
    "\n",
    "---\n",
    "### Q4 Answer:"
   ]
  },
  {
   "cell_type": "code",
   "execution_count": 36,
   "metadata": {
    "deletable": false,
    "nbgrader": {
     "cell_type": "code",
     "checksum": "e9937c9179e5cee78d01dce19a64f05f",
     "grade": false,
     "grade_id": "ans_four",
     "locked": false,
     "schema_version": 3,
     "solution": true,
     "task": false
    }
   },
   "outputs": [],
   "source": [
    "def ans_four():\n",
    "    \"\"\" Returns a list of your answers.  \n",
    "    \n",
    "    Parameters\n",
    "    ----------\n",
    "    :ans:  list\n",
    "        The list of your answers. Elements of :ans: are strings.\n",
    "    Returns\n",
    "    -------\n",
    "    :ans: ['B','C','E']\n",
    "    \"\"\"\n",
    "    \n",
    "    # YOUR CODE HERE\n",
    "    ans = ['B', 'C', 'E'] #!!!!! A : not necessarily for moore penrose pseudo inverse\n",
    "    return ans"
   ]
  },
  {
   "cell_type": "code",
   "execution_count": 37,
   "metadata": {
    "deletable": false,
    "editable": false,
    "nbgrader": {
     "cell_type": "code",
     "checksum": "a1e4af7d1b99178bec62941a1fff881c",
     "grade": true,
     "grade_id": "ans_four-test",
     "locked": true,
     "points": 1,
     "schema_version": 3,
     "solution": false,
     "task": false
    }
   },
   "outputs": [],
   "source": [
    "ans = ans_four()\n",
    "%run -i 'ans_format_test.py'"
   ]
  },
  {
   "cell_type": "markdown",
   "metadata": {
    "deletable": false,
    "editable": false,
    "nbgrader": {
     "cell_type": "markdown",
     "checksum": "ea8e4b9c27d39547c3cedef352ac5265",
     "grade": false,
     "grade_id": "cell-0804cea1022eff24",
     "locked": true,
     "schema_version": 3,
     "solution": false,
     "task": false
    }
   },
   "source": [
    "# PART B - Scikit-learn Linear Regression\n",
    "\n",
    "Naturally, there are built-in libraries for regression models.  In fact, it just takes a few lines of code once we import `LinearRegression` from the `linear_model` methods in the `sklearn` (scikit-learn) library."
   ]
  },
  {
   "cell_type": "code",
   "execution_count": 38,
   "metadata": {
    "deletable": false,
    "editable": false,
    "nbgrader": {
     "cell_type": "code",
     "checksum": "37ff5bdf8e64ee3738bd3e1cdbd914b7",
     "grade": false,
     "grade_id": "cell-efc7c77c6494db74",
     "locked": true,
     "schema_version": 3,
     "solution": false,
     "task": false
    }
   },
   "outputs": [],
   "source": [
    "# import sklearn linear regression \n",
    "from sklearn.linear_model import LinearRegression"
   ]
  },
  {
   "cell_type": "markdown",
   "metadata": {
    "deletable": false,
    "editable": false,
    "nbgrader": {
     "cell_type": "markdown",
     "checksum": "f3aace885f52b222e040d821e4f47138",
     "grade": false,
     "grade_id": "cell-2936014478ce7c0f",
     "locked": true,
     "schema_version": 3,
     "solution": false,
     "task": false
    }
   },
   "source": [
    "Scikit-learn uses a common [API](https://en.wikipedia.org/wiki/Application_programming_interface) for building models. So, the sequence we follow to build a simple linear model resembles the sequence of steps for building a wide range of models.  This is a good opportunity, therefore, to become aquainted with the scikit-learn workflow.\n",
    "\n",
    "Basically, there are two steps:\n",
    "\n",
    " - Instantiate a model\n",
    "  \n",
    " - Fit the model\n",
    "\n",
    "Followed by plotting and some rudimentary analysis of the model. Later in the course we will add a third step, which involves making predictions and evaluating the accuracy of those predictions."
   ]
  },
  {
   "cell_type": "code",
   "execution_count": 39,
   "metadata": {},
   "outputs": [
    {
     "data": {
      "text/plain": [
       "LinearRegression()"
      ]
     },
     "execution_count": 39,
     "metadata": {},
     "output_type": "execute_result"
    }
   ],
   "source": [
    "# instantiate model\n",
    "model = LinearRegression()\n",
    "# fit the model\n",
    "model.fit(X, y)"
   ]
  },
  {
   "cell_type": "markdown",
   "metadata": {
    "deletable": false,
    "editable": false,
    "nbgrader": {
     "cell_type": "markdown",
     "checksum": "bcf12682a14d1ce50cbeb128201723ce",
     "grade": false,
     "grade_id": "cell-018717d26ed6eb9e",
     "locked": true,
     "schema_version": 3,
     "solution": false,
     "task": false
    }
   },
   "source": [
    "And that's it! \n",
    "\n",
    "How does this method relate to what you did in PART A?  To retrieve the parameters, we apply the following methods to `model`:\n",
    "\n",
    " - `.intercept_`\n",
    " - `.coef_`\n",
    " \n",
    "Note that the trailing underscore `_` is simply used to avoid naming conflicts in sklearn. You can interpret each as giving you the intercept ($\\theta_0$) and the remaining coefficients ($\\theta_1, \\theta_2, \\ldots$) in your model, respectively. Here (hopefully!) some of what you learned in PART A can be useful to understand what the next lines of code are doing. \n",
    "\n",
    "Specifically, since sklearn linear regression can model multiple regression problems (i.e., problems with 2 or more features), the method `.coef_` returns an np.array rather than single number.  Hence, to retrieve the parameter value for $\\theta_1$, we index by `[1]` into this array. "
   ]
  },
  {
   "cell_type": "code",
   "execution_count": 40,
   "metadata": {},
   "outputs": [
    {
     "name": "stdout",
     "output_type": "stream",
     "text": [
      "theta_0: 3.2255877706752263\n",
      "theta_1: 2.1649519939763175\n"
     ]
    }
   ],
   "source": [
    "#print theta0 and theta1\n",
    "print('theta_0:', model.intercept_)\n",
    "print('theta_1:', model.coef_[1])  # model.coef_ returns an array"
   ]
  },
  {
   "cell_type": "markdown",
   "metadata": {
    "deletable": false,
    "editable": false,
    "nbgrader": {
     "cell_type": "markdown",
     "checksum": "5f6afe111fe1cc6fb453764d0bd6a187",
     "grade": false,
     "grade_id": "cell-3344f2765f1b6622",
     "locked": true,
     "schema_version": 3,
     "solution": false,
     "task": false
    }
   },
   "source": [
    "Compare the values you computed here to those you computed above.  \n",
    "\n",
    "Next, we produce a plot. "
   ]
  },
  {
   "cell_type": "code",
   "execution_count": 41,
   "metadata": {},
   "outputs": [
    {
     "data": {
      "text/plain": [
       "[<matplotlib.lines.Line2D at 0x7ff0c8fdf910>]"
      ]
     },
     "execution_count": 41,
     "metadata": {},
     "output_type": "execute_result"
    },
    {
     "data": {
      "image/png": "[encoded data removed]",
      "text/plain": [
       "<Figure size 432x288 with 1 Axes>"
      ]
     },
     "metadata": {
      "needs_background": "light"
     },
     "output_type": "display_data"
    }
   ],
   "source": [
    "plt.scatter(x, y)\n",
    "plt.title('2017 World Happiness by Country')\n",
    "plt.xlabel(r'Per Capita GPD')\n",
    "plt.ylabel(r'Happiness Score')\n",
    "plt.plot(x, model.predict(X),color='r')"
   ]
  },
  {
   "cell_type": "markdown",
   "metadata": {
    "deletable": false,
    "editable": false,
    "nbgrader": {
     "cell_type": "markdown",
     "checksum": "ab1274377fa2950bb28036399b2c0460",
     "grade": false,
     "grade_id": "cell-8b0a718a767976dd",
     "locked": true,
     "schema_version": 3,
     "solution": false,
     "task": false
    }
   },
   "source": [
    "\n",
    "<div class=\"alert alert-info\"><b>Machine Learning and Statistics:</b> You might be surprised to find that scikit-learn's regression library does not include a summary report of the kind you find in <b>R</b> or other statistical software. A common reason given is that scikit-learn is designed for predictive modeling, so the relevant evaluation criteria -- which we will cover later in the course -- are those to do with predictive accuracy.\n",
    "\n",
    "This is unfortunate, since outside of classroom exercises and kaggle competitions, rarely can you get very far solving a real-world problem without understanding your data through statistical analysis.  It is also silly, as predictive modeling is a branch of statistics, after all. \n",
    "\n",
    "    \n",
    "Nevertheless, there is an important point behind this. Machine learning has genuinely advanced our capabilities to do predictive modeling by focusing on \"algorithmic\" approaches that precisely forgo much of what is necessary for traditional, statistical \"data modeling\" approaches to get started. The design and philosophy of `sklearn` is a reflection of this philosophy in machine learning that has taken root over the last couple of decades.\n",
    "\n",
    "</div>\n",
    "\n",
    "One can of course use the [statsmodels](https://www.statsmodels.org/stable/index.html) package to fit a traditional OLS regression and extract summary statistics.  We demonstrate how to do this, next. \n",
    " "
   ]
  },
  {
   "cell_type": "code",
   "execution_count": 42,
   "metadata": {},
   "outputs": [
    {
     "data": {
      "text/html": [
       "<table class=\"simpletable\">\n",
       "<caption>OLS Regression Results</caption>\n",
       "<tr>\n",
       "  <th>Dep. Variable:</th>            <td>y</td>        <th>  R-squared:         </th> <td>   0.649</td>\n",
       "</tr>\n",
       "<tr>\n",
       "  <th>Model:</th>                   <td>OLS</td>       <th>  Adj. R-squared:    </th> <td>   0.646</td>\n",
       "</tr>\n",
       "<tr>\n",
       "  <th>Method:</th>             <td>Least Squares</td>  <th>  F-statistic:       </th> <td>   280.8</td>\n",
       "</tr>\n",
       "<tr>\n",
       "  <th>Date:</th>             <td>Tue, 08 Feb 2022</td> <th>  Prob (F-statistic):</th> <td>2.33e-36</td>\n",
       "</tr>\n",
       "<tr>\n",
       "  <th>Time:</th>                 <td>16:22:07</td>     <th>  Log-Likelihood:    </th> <td> -154.10</td>\n",
       "</tr>\n",
       "<tr>\n",
       "  <th>No. Observations:</th>      <td>   154</td>      <th>  AIC:               </th> <td>   312.2</td>\n",
       "</tr>\n",
       "<tr>\n",
       "  <th>Df Residuals:</th>          <td>   152</td>      <th>  BIC:               </th> <td>   318.3</td>\n",
       "</tr>\n",
       "<tr>\n",
       "  <th>Df Model:</th>              <td>     1</td>      <th>                     </th>     <td> </td>   \n",
       "</tr>\n",
       "<tr>\n",
       "  <th>Covariance Type:</th>      <td>nonrobust</td>    <th>                     </th>     <td> </td>   \n",
       "</tr>\n",
       "</table>\n",
       "<table class=\"simpletable\">\n",
       "<tr>\n",
       "    <td></td>       <th>coef</th>     <th>std err</th>      <th>t</th>      <th>P>|t|</th>  <th>[0.025</th>    <th>0.975]</th>  \n",
       "</tr>\n",
       "<tr>\n",
       "  <th>const</th> <td>    3.2256</td> <td>    0.139</td> <td>   23.250</td> <td> 0.000</td> <td>    2.951</td> <td>    3.500</td>\n",
       "</tr>\n",
       "<tr>\n",
       "  <th>x1</th>    <td>    2.1650</td> <td>    0.129</td> <td>   16.757</td> <td> 0.000</td> <td>    1.910</td> <td>    2.420</td>\n",
       "</tr>\n",
       "</table>\n",
       "<table class=\"simpletable\">\n",
       "<tr>\n",
       "  <th>Omnibus:</th>       <td> 0.331</td> <th>  Durbin-Watson:     </th> <td>   1.194</td>\n",
       "</tr>\n",
       "<tr>\n",
       "  <th>Prob(Omnibus):</th> <td> 0.847</td> <th>  Jarque-Bera (JB):  </th> <td>   0.483</td>\n",
       "</tr>\n",
       "<tr>\n",
       "  <th>Skew:</th>          <td> 0.077</td> <th>  Prob(JB):          </th> <td>   0.785</td>\n",
       "</tr>\n",
       "<tr>\n",
       "  <th>Kurtosis:</th>      <td> 2.773</td> <th>  Cond. No.          </th> <td>    5.01</td>\n",
       "</tr>\n",
       "</table><br/><br/>Notes:<br/>[1] Standard Errors assume that the covariance matrix of the errors is correctly specified."
      ],
      "text/plain": [
       "<class 'statsmodels.iolib.summary.Summary'>\n",
       "\"\"\"\n",
       "                            OLS Regression Results                            \n",
       "==============================================================================\n",
       "Dep. Variable:                      y   R-squared:                       0.649\n",
       "Model:                            OLS   Adj. R-squared:                  0.646\n",
       "Method:                 Least Squares   F-statistic:                     280.8\n",
       "Date:                Tue, 08 Feb 2022   Prob (F-statistic):           2.33e-36\n",
       "Time:                        16:22:07   Log-Likelihood:                -154.10\n",
       "No. Observations:                 154   AIC:                             312.2\n",
       "Df Residuals:                     152   BIC:                             318.3\n",
       "Df Model:                           1                                         \n",
       "Covariance Type:            nonrobust                                         \n",
       "==============================================================================\n",
       "                 coef    std err          t      P>|t|      [0.025      0.975]\n",
       "------------------------------------------------------------------------------\n",
       "const          3.2256      0.139     23.250      0.000       2.951       3.500\n",
       "x1             2.1650      0.129     16.757      0.000       1.910       2.420\n",
       "==============================================================================\n",
       "Omnibus:                        0.331   Durbin-Watson:                   1.194\n",
       "Prob(Omnibus):                  0.847   Jarque-Bera (JB):                0.483\n",
       "Skew:                           0.077   Prob(JB):                        0.785\n",
       "Kurtosis:                       2.773   Cond. No.                         5.01\n",
       "==============================================================================\n",
       "\n",
       "Notes:\n",
       "[1] Standard Errors assume that the covariance matrix of the errors is correctly specified.\n",
       "\"\"\""
      ]
     },
     "execution_count": 42,
     "metadata": {},
     "output_type": "execute_result"
    }
   ],
   "source": [
    "from statsmodels.api import OLS\n",
    "OLS(y,X).fit().summary()"
   ]
  },
  {
   "cell_type": "markdown",
   "metadata": {},
   "source": [
    "<div class=\"alert alert-info\"> <b>OLS vs sklearn regression</b> \n",
    "    \n",
    "OLS regression gives you a classical and, as such, is not designed for large models. Scikit-learn regression, on the other hand, is designed for large models.  This can result in cases where the two give slightly different results.\n",
    "    \n",
    "Both operate within the framework of classical, frequentist statistics.\n",
    "</div>"
   ]
  },
  {
   "cell_type": "markdown",
   "metadata": {
    "deletable": false,
    "editable": false,
    "nbgrader": {
     "cell_type": "markdown",
     "checksum": "098d3d23c25c130bbd5bde4fbc368b40",
     "grade": false,
     "grade_id": "cell-fb354467376434b1",
     "locked": true,
     "schema_version": 3,
     "solution": false,
     "task": false
    }
   },
   "source": [
    "Lastly, the [seaborn](https://seaborn.pydata.org/) statistical visualization library is an extension of matplotlib that includes several built-in features that allow you to create appealing and informative graphics.  For instance, we might like to visualize the <b>confidence interval</b> around our model.  The next two lines of code produce a (default) 95% confidence interval, that is, that interval $[L, U]$ is calculated by\n",
    "\n",
    "$$L = \\theta_1 - 1.96(SE\\,\\theta_1) \\qquad U = \\theta_1 - 1.96(SE\\,\\theta_1) $$\n"
   ]
  },
  {
   "cell_type": "code",
   "execution_count": 43,
   "metadata": {},
   "outputs": [
    {
     "data": {
      "text/plain": [
       "<AxesSubplot:>"
      ]
     },
     "execution_count": 43,
     "metadata": {},
     "output_type": "execute_result"
    },
    {
     "data": {
      "image/png": "[encoded data removed]",
      "text/plain": [
       "<Figure size 432x288 with 1 Axes>"
      ]
     },
     "metadata": {},
     "output_type": "display_data"
    }
   ],
   "source": [
    "import seaborn as sns\n",
    "sns.set_style(\"ticks\")\n",
    "sns.regplot(x=x,y=y,line_kws = {\"color\": 'r'})"
   ]
  },
  {
   "cell_type": "markdown",
   "metadata": {
    "deletable": false,
    "editable": false,
    "nbgrader": {
     "cell_type": "markdown",
     "checksum": "a12cf40a970e346bf4e5f0f692bd7a95",
     "grade": false,
     "grade_id": "cell-e85f30c72c0a163e",
     "locked": true,
     "schema_version": 3,
     "solution": false,
     "task": false
    }
   },
   "source": [
    "# PART C - Your Turn\n",
    "\n",
    "Let's review. In Part A you focused on the mechanics of <b>gradient descent</b>, how the mathematical components of <b>ordinary least squares regression</b> (OLS) regression can be represented and computed by NumPy element-wise array operations, and how those computational components fit together into an implementation of Batch Gradient Descent.  You then ran your implementation of gradient descent to find approximate solutions for the vector of coefficients, $\\boldsymbol{\\theta}$, and recorded a step-wise history of values of the cost function, showing the progress of the algorithm in finding values of $\\boldsymbol{\\theta}$ that minimize the cost function $J(\\boldsymbol{\\theta})$.  In Part B you used the SciKit-Learn library to confirm the parameter values and were introduced to the \"logic\" of the sklearn API (which you will see more of, later in the course).  You were also introduced to the statsmodels library, which allows you to produce a traditional OLS regression, among many other things. We used this to produce an OLS model and summary table.  Finally, you were given a brief introduction to the statistical plotting library <b>seaborn</b>, which is an extension of matplotlib.\n",
    "\n",
    "In this section, you will do some of the data preparation work that was done for you to fit a regression model on <b>life expectancy</b>.  The data set `ps1_data2.csv` contains the two columns of data in `ps1_data1.csv` plus a third  column recording the average life expectancy, in years, of each country.\n",
    "\n",
    "<div class=\"alert alert-info\"> <b>Note</b>:\n",
    "The average life expectancy data is scaled to values between 0 and 1. For example, a country whose average lifespan is 79.26 years will appear as 0.7926.\n",
    "</div>\n",
    "\n",
    "Your first task is to run the next cell to load `ps1_data2.csv`.  Then, on your own, you will need to prepare the data set to perform a <b>univariate linear regression model</b> to the explain the target variable <i>happiness</i> from the feature </i> average lifespan.  That is, $x$ will be the life expectancy feature, and $y$ will be the happiness score (as before). "
   ]
  },
  {
   "cell_type": "code",
   "execution_count": 44,
   "metadata": {},
   "outputs": [],
   "source": [
    "data2 = np.loadtxt('ps1_data2.csv', delimiter=',')\n",
    "data2 = data2[:,1:] #deleting column 1 "
   ]
  },
  {
   "cell_type": "markdown",
   "metadata": {
    "deletable": false,
    "editable": false,
    "nbgrader": {
     "cell_type": "markdown",
     "checksum": "466559189b4f26146c691fe6eb5543e2",
     "grade": false,
     "grade_id": "cell-6451b55b3cb7a74c",
     "locked": true,
     "schema_version": 3,
     "solution": false,
     "task": false
    }
   },
   "source": [
    "Once `data2` is in the right format to use the code you have written in Part A and the libraries introduced to you in Part B, use those tools (and those tools only) to answer each part of Question 5. "
   ]
  },
  {
   "cell_type": "markdown",
   "metadata": {
    "deletable": false,
    "editable": false,
    "nbgrader": {
     "cell_type": "markdown",
     "checksum": "3e54cb6914a394acec40c9e69e085117",
     "grade": false,
     "grade_id": "cell-310dd6116d27cb85",
     "locked": true,
     "schema_version": 3,
     "solution": false,
     "task": false
    }
   },
   "source": [
    "---\n",
    "## Question 5\n",
    "\n",
    "Run Gradient descent and sklearn linear regression on `data2`.  Be sure to pick new variables names to ensure that all variables correspond to data set `ps_data2` and not to `ps_data1`. \n",
    "\n",
    "There are four quantities that you will need to report about your univariate regression model for the target variable <i>happiness score</i> and independent variable <i>average life expectancy</i>, which we will refer to as \"<b>model 2</b>\": \n",
    "\n",
    " - a) The value of the intercept parameter $\\theta_0$ of a fitted model 2.\n",
    " - b) The value of the coefficient parameter $\\theta_1$ of a fitted model 2.\n",
    " - c) The value of the cost function, $J([\\theta_0, \\theta_1])$, on the fitted parameters for model 2. Note that this is the last value stored in the J_history cost function.\n",
    " - d) The Akaike information criterion score for model 2.\n",
    "\n",
    "The test condition for a, b, c, rounds the correct answers to some $n$ places unknown to you but less than 5 decimal places. Therefore, you should compute each of these values.  Answer d will be evaluated to a precision of one-decimal place.\n",
    "\n",
    "In the following cell, enter the values for for those variables.  Here is the key:\n",
    "\n",
    "~~~python\n",
    "def ans_5():\n",
    "    a =     # a: theta_0 from your fitted model \n",
    "    b =     # b: theta_1 from your fitted model  \n",
    "    c =     # c: the last value of the array J_history \n",
    "    d =     # d: Akaike information criterion score, to 1 decimal place of precision.\n",
    "~~~\n",
    "\n",
    "<div class=\"alert alert-info\"> <b>Hint</b>:\n",
    "If you use different tools from Part A and Part B, it is important that they return the same answers (up to five decimal places of precision) to those parts of Question 5 that they both can answer. Now the hint: You may want to aim for slightly higher precision for some quantities to ensure the test conditions for all four quantities are satisfied. \n",
    "</div>\n",
    "\n",
    "---\n",
    "### Q5 Answer:"
   ]
  },
  {
   "cell_type": "code",
   "execution_count": 45,
   "metadata": {
    "deletable": false,
    "nbgrader": {
     "cell_type": "code",
     "checksum": "41fb86fdcc3f43f9117d125e9faa4952",
     "grade": false,
     "grade_id": "ans_five",
     "locked": false,
     "schema_version": 3,
     "solution": true,
     "task": false
    }
   },
   "outputs": [],
   "source": [
    "def ans_five():\n",
    "    \"\"\" Returns tuple of four numerical values of your linear model.  \n",
    "    \n",
    "    Parameters\n",
    "    ----------\n",
    "    :a:  float\n",
    "        theta_0 from your fitted model \n",
    "    :b:  float\n",
    "        theta_1 from your fitted model \n",
    "    :c:  float\n",
    "        the last value of the array J_history \n",
    "    :d:  float\n",
    "         Akaike information criterion score, to 1 decimal place of precision\n",
    "    \n",
    "    Returns\n",
    "    -------\n",
    "    :a: 3.29168\n",
    "    :b: 3.73748\n",
    "    :c: 0.24686\n",
    "    :d: 332.3\n",
    "    \"\"\"\n",
    " \n",
    "    # YOUR CODE HERE\n",
    "    theta2, X2 = initialize(data2, 0.0,0.0) #y, m global\n",
    "    \n",
    "    #using sklearn\n",
    "    # instantiate model\n",
    "    model2 = LinearRegression()\n",
    "    \n",
    "    # fit the model\n",
    "    model2.fit(X2, y)\n",
    "    \n",
    "    #print theta0 and theta1\n",
    "    #print('theta_0:', model2.intercept_)\n",
    "    #print('theta_1:', model2.coef_[1])\n",
    "    \n",
    "    #using gradient descent -------\n",
    "    \n",
    "    # run gradient descent\n",
    "    theta2_new, J_history2 = batchGradientDescent(X2, y, theta2, alpha, 11000) #alpha = 0.2, iterations = 11000\n",
    "    #print('J_history2_last: ', J_history2[len(J_history2)-1])\n",
    "    #print('theta GD:', theta2_new) #-- theta new is different to 4dp with GD compared to LR\n",
    "    \n",
    "    # AIC \n",
    "    from statsmodels.api import OLS\n",
    "    m2 = OLS(y, X2).fit() #the AIC value was taken from these summary stats\n",
    "    #print(m2.aic) \n",
    "    \n",
    "    a = round(model2.intercept_, 5)\n",
    "    b = round(model2.coef_[1], 5)\n",
    "    c = round(J_history2[len(J_history2)-1], 5)\n",
    "    d = round(m2.aic,1)\n",
    "    \n",
    "    #print(a,b,c,d)\n",
    "    \n",
    "    \n",
    "    return a, b, c, d  # do not edit\n",
    "   "
   ]
  },
  {
   "cell_type": "code",
   "execution_count": 46,
   "metadata": {
    "deletable": false,
    "editable": false,
    "nbgrader": {
     "cell_type": "code",
     "checksum": "98e4714fc41d452057b1c21c708d2c54",
     "grade": true,
     "grade_id": "ans_five-test1",
     "locked": true,
     "points": 0.5,
     "schema_version": 3,
     "solution": false,
     "task": false
    }
   },
   "outputs": [],
   "source": [
    "# TEST CELL"
   ]
  },
  {
   "cell_type": "code",
   "execution_count": 47,
   "metadata": {
    "deletable": false,
    "editable": false,
    "nbgrader": {
     "cell_type": "code",
     "checksum": "42b95c789cda8b7040443d1b90ac849f",
     "grade": true,
     "grade_id": "ans_five-test2",
     "locked": true,
     "points": 0.5,
     "schema_version": 3,
     "solution": false,
     "task": false
    }
   },
   "outputs": [],
   "source": [
    "# TEST CELL"
   ]
  },
  {
   "cell_type": "code",
   "execution_count": 48,
   "metadata": {
    "deletable": false,
    "editable": false,
    "nbgrader": {
     "cell_type": "code",
     "checksum": "5b7083c0f193a6a6f32d3dbd6c72f221",
     "grade": true,
     "grade_id": "ans_five-test3",
     "locked": true,
     "points": 0.5,
     "schema_version": 3,
     "solution": false,
     "task": false
    }
   },
   "outputs": [],
   "source": [
    "# TEST CELL"
   ]
  },
  {
   "cell_type": "code",
   "execution_count": 45,
   "metadata": {
    "deletable": false,
    "editable": false,
    "nbgrader": {
     "cell_type": "code",
     "checksum": "e5e0148570e91820b04cd83f79d84dc0",
     "grade": true,
     "grade_id": "ans_five-test4",
     "locked": true,
     "points": 0.5,
     "schema_version": 3,
     "solution": false,
     "task": false
    }
   },
   "outputs": [],
   "source": [
    "# TEST CELL"
   ]
  },
  {
   "cell_type": "code",
   "execution_count": 46,
   "metadata": {
    "deletable": false,
    "editable": false,
    "nbgrader": {
     "cell_type": "code",
     "checksum": "cfd9c23759b8e7705c5ceb8b438db650",
     "grade": true,
     "grade_id": "collaborator_policy_test",
     "locked": true,
     "points": 0,
     "schema_version": 3,
     "solution": false,
     "task": false
    }
   },
   "outputs": [],
   "source": [
    "# Test for Collaborator policy before submission\n",
    "%run -i 'collaboration_test.py'"
   ]
  },
  {
   "cell_type": "markdown",
   "metadata": {
    "deletable": false,
    "editable": false,
    "nbgrader": {
     "cell_type": "markdown",
     "checksum": "da0aab92ebe963152ba50e5003048a73",
     "grade": false,
     "grade_id": "cell-3855ebc915820d81",
     "locked": true,
     "schema_version": 3,
     "solution": false,
     "task": false
    }
   },
   "source": [
    "Before submitting this notebook, you should do the following steps:\n",
    "  \n",
    "  1. __Restart Kernel__ (Kernel ⟶ Restart and Clear Output)\n",
    "  2. __Run all Cells__ (Cell ⟶ Run All)\n",
    "  3. __Validate Notebook__: Press the 'Validate' button on this page. This is the first validation step.\n",
    "  4. __Save File__ (File ⟶ Save and Checkpoint)\n",
    "  5. __Close and Shutdown Kernel__ (File ⟶ Close and Halt)\n",
    "  \n",
    "Then, follow the final steps for submitting the assignment.\n",
    "\n",
    "  6. __Validate Submission__: On the submissions page, validate your assignment folder ps1. This is the second validation step. Your submissions is ready for submission only if it passes both the first and second validation steps.\n",
    "  7. __Submit__: Press the submission button to submit your validated assignment. The time stamp is the time of submission."
   ]
  }
 ],
 "metadata": {
  "kernelspec": {
   "display_name": "Python 3",
   "language": "python",
   "name": "python3"
  },
  "language_info": {
   "codemirror_mode": {
    "name": "ipython",
    "version": 3
   },
   "file_extension": ".py",
   "mimetype": "text/x-python",
   "name": "python",
   "nbconvert_exporter": "python",
   "pygments_lexer": "ipython3",
   "version": "3.8.8"
  }
 },
 "nbformat": 4,
 "nbformat_minor": 4
}
